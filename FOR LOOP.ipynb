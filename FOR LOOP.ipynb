{
 "cells": [
  {
   "cell_type": "markdown",
   "id": "9b19d393",
   "metadata": {},
   "source": [
    "# RANGE"
   ]
  },
  {
   "cell_type": "markdown",
   "id": "db120061",
   "metadata": {},
   "source": [
    "- range(start,end,step) #start=1, end=required argument, step=1"
   ]
  },
  {
   "cell_type": "code",
   "execution_count": 8,
   "id": "ff96cece",
   "metadata": {},
   "outputs": [
    {
     "name": "stdout",
     "output_type": "stream",
     "text": [
      "<class 'range'>\n"
     ]
    }
   ],
   "source": [
    "a=range(1,10)\n",
    "print(type(a))"
   ]
  },
  {
   "cell_type": "code",
   "execution_count": 9,
   "id": "ae3c5a1d",
   "metadata": {},
   "outputs": [
    {
     "data": {
      "text/plain": [
       "[1, 2, 3, 4, 5, 6, 7, 8, 9]"
      ]
     },
     "execution_count": 9,
     "metadata": {},
     "output_type": "execute_result"
    }
   ],
   "source": [
    "list(range(1,10))"
   ]
  },
  {
   "cell_type": "code",
   "execution_count": 10,
   "id": "ed158ed0",
   "metadata": {},
   "outputs": [
    {
     "data": {
      "text/plain": [
       "[1, 3, 5, 7, 9]"
      ]
     },
     "execution_count": 10,
     "metadata": {},
     "output_type": "execute_result"
    }
   ],
   "source": [
    "list(range(1,11,2))"
   ]
  },
  {
   "cell_type": "code",
   "execution_count": 11,
   "id": "3694402e",
   "metadata": {},
   "outputs": [
    {
     "data": {
      "text/plain": [
       "range(0, 5)"
      ]
     },
     "execution_count": 11,
     "metadata": {},
     "output_type": "execute_result"
    }
   ],
   "source": [
    "range(5)"
   ]
  },
  {
   "cell_type": "code",
   "execution_count": 12,
   "id": "1ea2c7f0",
   "metadata": {},
   "outputs": [
    {
     "data": {
      "text/plain": [
       "[0, 1, 2, 3, 4]"
      ]
     },
     "execution_count": 12,
     "metadata": {},
     "output_type": "execute_result"
    }
   ],
   "source": [
    "list(range(5))"
   ]
  },
  {
   "cell_type": "code",
   "execution_count": 13,
   "id": "1759209f",
   "metadata": {},
   "outputs": [
    {
     "data": {
      "text/plain": [
       "range(10, 1)"
      ]
     },
     "execution_count": 13,
     "metadata": {},
     "output_type": "execute_result"
    }
   ],
   "source": [
    "range(10,1)"
   ]
  },
  {
   "cell_type": "code",
   "execution_count": 14,
   "id": "2120a48b",
   "metadata": {},
   "outputs": [
    {
     "data": {
      "text/plain": [
       "[]"
      ]
     },
     "execution_count": 14,
     "metadata": {},
     "output_type": "execute_result"
    }
   ],
   "source": [
    "list(range(10,1))"
   ]
  },
  {
   "cell_type": "code",
   "execution_count": 15,
   "id": "b81ef694",
   "metadata": {},
   "outputs": [
    {
     "data": {
      "text/plain": [
       "[10, 9, 8, 7, 6, 5, 4, 3, 2, 1]"
      ]
     },
     "execution_count": 15,
     "metadata": {},
     "output_type": "execute_result"
    }
   ],
   "source": [
    "list(range(10,0,-1))"
   ]
  },
  {
   "cell_type": "markdown",
   "id": "ee77ddcf",
   "metadata": {},
   "source": [
    "# WAP TO PRINT 1 - 10 Using For Loop"
   ]
  },
  {
   "cell_type": "code",
   "execution_count": 16,
   "id": "fa775405",
   "metadata": {},
   "outputs": [
    {
     "name": "stdout",
     "output_type": "stream",
     "text": [
      "1\n",
      "2\n",
      "3\n",
      "4\n",
      "5\n",
      "6\n",
      "7\n",
      "8\n",
      "9\n",
      "10\n"
     ]
    }
   ],
   "source": [
    "for i in range(1,11):\n",
    "    print(i)"
   ]
  },
  {
   "cell_type": "code",
   "execution_count": 17,
   "id": "3394fb42",
   "metadata": {},
   "outputs": [
    {
     "name": "stdout",
     "output_type": "stream",
     "text": [
      "1 2 3 4 5 6 7 8 9 10 "
     ]
    }
   ],
   "source": [
    "for i in range(1,11):\n",
    "    print(i,end=\" \")"
   ]
  },
  {
   "cell_type": "markdown",
   "id": "170af035",
   "metadata": {},
   "source": [
    "# WAP to print 1-10 every second value using for loop"
   ]
  },
  {
   "cell_type": "code",
   "execution_count": 18,
   "id": "100a7258",
   "metadata": {},
   "outputs": [
    {
     "name": "stdout",
     "output_type": "stream",
     "text": [
      "1\n",
      "3\n",
      "5\n",
      "7\n",
      "9\n"
     ]
    }
   ],
   "source": [
    "for i in range(1,11,2):\n",
    "    print(i)"
   ]
  },
  {
   "cell_type": "markdown",
   "id": "d183dc79",
   "metadata": {},
   "source": [
    "# WAP TO PRINT 10 - 1 Using For Loop"
   ]
  },
  {
   "cell_type": "code",
   "execution_count": 19,
   "id": "b83569b1",
   "metadata": {},
   "outputs": [
    {
     "name": "stdout",
     "output_type": "stream",
     "text": [
      "10\n",
      "9\n",
      "8\n",
      "7\n",
      "6\n",
      "5\n",
      "4\n",
      "3\n",
      "2\n",
      "1\n"
     ]
    }
   ],
   "source": [
    "for i in range(10,0,-1):\n",
    "    print(i)"
   ]
  },
  {
   "cell_type": "markdown",
   "id": "250ab961",
   "metadata": {},
   "source": [
    "- Ascending eg. 1-10 start<end eg. 1,11 ---> step=1\n",
    "- Descending e.g 10-1 start>end eg. 10,0 --->step=-1"
   ]
  },
  {
   "cell_type": "markdown",
   "id": "d3d429d6",
   "metadata": {},
   "source": [
    "# WAP TO PRINT FACTORIAL USER ENTER ANY NUMBER"
   ]
  },
  {
   "cell_type": "raw",
   "id": "beec3279",
   "metadata": {},
   "source": [
    "factorial (!)\n",
    "5!=5*4*3*2*1 = 120\n",
    "\n",
    "5!=1*2*3*4*5 = 120"
   ]
  },
  {
   "cell_type": "code",
   "execution_count": 20,
   "id": "cc9dfc82",
   "metadata": {},
   "outputs": [
    {
     "name": "stdout",
     "output_type": "stream",
     "text": [
      "Enter a Number :- 5\n",
      "Factorial of 5 is 120\n"
     ]
    }
   ],
   "source": [
    "n = int(input(\"Enter a Number :- \"))\n",
    "f=1\n",
    "for i in range(1,n+1):\n",
    "    f=f*i\n",
    "print(f\"Factorial of {n} is {f}\")"
   ]
  },
  {
   "cell_type": "markdown",
   "id": "f80de274",
   "metadata": {},
   "source": [
    "#### Write a Program to Add n Natural Number."
   ]
  },
  {
   "cell_type": "code",
   "execution_count": 36,
   "id": "422c9f8c",
   "metadata": {},
   "outputs": [
    {
     "name": "stdout",
     "output_type": "stream",
     "text": [
      "Enter a Number :- 5\n",
      "The Sum of 5 is 15\n"
     ]
    }
   ],
   "source": [
    "#User Input\n",
    "n=int(input(\"Enter a Number :- \"))\n",
    "tot=0\n",
    "for i in range(1,n+1):\n",
    "    tot=tot+i\n",
    "print(f\"The Sum of {n} is {tot}\")"
   ]
  },
  {
   "cell_type": "markdown",
   "id": "37ed8e94",
   "metadata": {},
   "source": [
    "# ITERATION OVER DATATYPES"
   ]
  },
  {
   "cell_type": "code",
   "execution_count": 21,
   "id": "0bcd7487",
   "metadata": {},
   "outputs": [],
   "source": [
    "x=[\"one\",\"two\",\"three\",\"four\",\"five\"]"
   ]
  },
  {
   "cell_type": "code",
   "execution_count": 22,
   "id": "aff0b97c",
   "metadata": {},
   "outputs": [
    {
     "data": {
      "text/plain": [
       "4"
      ]
     },
     "execution_count": 22,
     "metadata": {},
     "output_type": "execute_result"
    }
   ],
   "source": [
    "len(\"asif\")"
   ]
  },
  {
   "cell_type": "code",
   "execution_count": 23,
   "id": "22321ebd",
   "metadata": {},
   "outputs": [
    {
     "data": {
      "text/plain": [
       "5"
      ]
     },
     "execution_count": 23,
     "metadata": {},
     "output_type": "execute_result"
    }
   ],
   "source": [
    "len(x)"
   ]
  },
  {
   "cell_type": "code",
   "execution_count": 24,
   "id": "2f8d3b6d",
   "metadata": {},
   "outputs": [
    {
     "data": {
      "text/plain": [
       "[0, 1, 2, 3, 4]"
      ]
     },
     "execution_count": 24,
     "metadata": {},
     "output_type": "execute_result"
    }
   ],
   "source": [
    "list(range(0,len(x)))"
   ]
  },
  {
   "cell_type": "code",
   "execution_count": 25,
   "id": "f2853d56",
   "metadata": {},
   "outputs": [
    {
     "name": "stdout",
     "output_type": "stream",
     "text": [
      "one\n",
      "two\n",
      "three\n",
      "four\n",
      "five\n"
     ]
    }
   ],
   "source": [
    "#Indexing ke madad se\n",
    "for i in range(0,len(x)):\n",
    "    print(x[i])"
   ]
  },
  {
   "cell_type": "code",
   "execution_count": 26,
   "id": "f7491fe2",
   "metadata": {},
   "outputs": [
    {
     "name": "stdout",
     "output_type": "stream",
     "text": [
      "one\n",
      "two\n",
      "three\n",
      "four\n",
      "five\n"
     ]
    }
   ],
   "source": [
    "for i in x:\n",
    "    print(i)"
   ]
  },
  {
   "cell_type": "code",
   "execution_count": 27,
   "id": "0e4ce9ba",
   "metadata": {},
   "outputs": [
    {
     "name": "stdout",
     "output_type": "stream",
     "text": [
      "11\n",
      "12\n",
      "13\n",
      "14\n",
      "15\n"
     ]
    }
   ],
   "source": [
    "a=(11,12,13,14,15)\n",
    "for i in range(len(a)):\n",
    "    print(a[i])"
   ]
  },
  {
   "cell_type": "code",
   "execution_count": 28,
   "id": "199a1878",
   "metadata": {},
   "outputs": [
    {
     "name": "stdout",
     "output_type": "stream",
     "text": [
      "11 12 13 14 15 "
     ]
    }
   ],
   "source": [
    "for i in range(len(a)):\n",
    "    print(a[i], end=\" \")"
   ]
  },
  {
   "cell_type": "code",
   "execution_count": 29,
   "id": "4b897d7d",
   "metadata": {},
   "outputs": [
    {
     "name": "stdout",
     "output_type": "stream",
     "text": [
      "p\n",
      "y\n",
      "t\n",
      "h\n",
      "o\n",
      "n\n",
      " \n",
      "i\n",
      "s\n",
      " \n",
      "f\n",
      "u\n",
      "n\n"
     ]
    }
   ],
   "source": [
    "b =\"python is fun\"\n",
    "for i in range(len(b)):\n",
    "    print(b[i])"
   ]
  },
  {
   "cell_type": "code",
   "execution_count": 30,
   "id": "506dc031",
   "metadata": {},
   "outputs": [
    {
     "name": "stdout",
     "output_type": "stream",
     "text": [
      "hey\n",
      "now\n",
      "hello\n",
      "my\n",
      "world\n"
     ]
    }
   ],
   "source": [
    "z=[\"hey\",\"now\",\"hello\",\"my\",\"world\"]\n",
    "\n",
    "for i in z:\n",
    "    print(i)"
   ]
  },
  {
   "cell_type": "markdown",
   "id": "7b2494a4",
   "metadata": {},
   "source": [
    "# DICTIONARY"
   ]
  },
  {
   "cell_type": "code",
   "execution_count": 32,
   "id": "e64eb421",
   "metadata": {},
   "outputs": [
    {
     "name": "stdout",
     "output_type": "stream",
     "text": [
      "a\n",
      "b\n",
      "c\n",
      "d\n"
     ]
    }
   ],
   "source": [
    "d={\"a\":10,\"b\":20,\"c\":30,\"d\":40}\n",
    "\n",
    "for i in d.keys():\n",
    "    print(i)"
   ]
  },
  {
   "cell_type": "code",
   "execution_count": 33,
   "id": "e7aa9f21",
   "metadata": {},
   "outputs": [
    {
     "name": "stdout",
     "output_type": "stream",
     "text": [
      "10\n",
      "20\n",
      "30\n",
      "40\n"
     ]
    }
   ],
   "source": [
    "for i in d.values():\n",
    "    print(i)"
   ]
  },
  {
   "cell_type": "code",
   "execution_count": 34,
   "id": "fc792553",
   "metadata": {},
   "outputs": [
    {
     "name": "stdout",
     "output_type": "stream",
     "text": [
      "('a', 10)\n",
      "('b', 20)\n",
      "('c', 30)\n",
      "('d', 40)\n"
     ]
    }
   ],
   "source": [
    "for i in d.items():\n",
    "    print(i)"
   ]
  },
  {
   "cell_type": "code",
   "execution_count": 35,
   "id": "4b3d9403",
   "metadata": {},
   "outputs": [
    {
     "name": "stdout",
     "output_type": "stream",
     "text": [
      "a 10\n",
      "b 20\n",
      "c 30\n",
      "d 40\n"
     ]
    }
   ],
   "source": [
    "for i,j in d.items():\n",
    "    print(i,j)"
   ]
  },
  {
   "cell_type": "markdown",
   "id": "3ce7c73b",
   "metadata": {},
   "source": [
    "#### Swapping Variables"
   ]
  },
  {
   "cell_type": "code",
   "execution_count": 37,
   "id": "d0efda8d",
   "metadata": {},
   "outputs": [],
   "source": [
    "x=5\n",
    "y=10"
   ]
  },
  {
   "cell_type": "code",
   "execution_count": 38,
   "id": "facf4828",
   "metadata": {},
   "outputs": [],
   "source": [
    "x,y=y,x"
   ]
  },
  {
   "cell_type": "code",
   "execution_count": 39,
   "id": "0d1be265",
   "metadata": {},
   "outputs": [
    {
     "data": {
      "text/plain": [
       "10"
      ]
     },
     "execution_count": 39,
     "metadata": {},
     "output_type": "execute_result"
    }
   ],
   "source": [
    "x"
   ]
  },
  {
   "cell_type": "code",
   "execution_count": 40,
   "id": "85a21370",
   "metadata": {},
   "outputs": [
    {
     "data": {
      "text/plain": [
       "5"
      ]
     },
     "execution_count": 40,
     "metadata": {},
     "output_type": "execute_result"
    }
   ],
   "source": [
    "y"
   ]
  },
  {
   "cell_type": "code",
   "execution_count": 41,
   "id": "87d23ea9",
   "metadata": {},
   "outputs": [],
   "source": [
    "x=5\n",
    "y=10"
   ]
  },
  {
   "cell_type": "code",
   "execution_count": 42,
   "id": "4fc9be80",
   "metadata": {},
   "outputs": [],
   "source": [
    "z=x\n",
    "x=y\n",
    "y=z"
   ]
  },
  {
   "cell_type": "markdown",
   "id": "409200cf",
   "metadata": {},
   "source": [
    "# FIBONACCI SERIES"
   ]
  },
  {
   "cell_type": "markdown",
   "id": "99060e97",
   "metadata": {},
   "source": [
    "-  The Fibonacci Series is a Series of numbers where a number is the addition of last two numbers. Starting with 0 and 1.\n",
    "-  The Fibonacci Sequence : 0,1,1,2,3,5,8,13,21,34,55.....and so on"
   ]
  },
  {
   "cell_type": "markdown",
   "id": "cb837c65",
   "metadata": {},
   "source": [
    "Fibo PPt"
   ]
  },
  {
   "cell_type": "raw",
   "id": "7b0f67fc",
   "metadata": {},
   "source": [
    "x=0\n",
    "y=1\n",
    "\n",
    "loop(n): \n",
    "         z<----x+y\n",
    "         x<----y\n",
    "         y<-----x+y"
   ]
  },
  {
   "cell_type": "code",
   "execution_count": 1,
   "id": "0c26c318",
   "metadata": {},
   "outputs": [
    {
     "name": "stdout",
     "output_type": "stream",
     "text": [
      "1 2 3 5 8 13 21 34 55 89 "
     ]
    }
   ],
   "source": [
    "x=0\n",
    "y=1\n",
    "for i in range(10):\n",
    "    z=x+y\n",
    "    x=y\n",
    "    y=z\n",
    "    print(z,end=\" \")"
   ]
  },
  {
   "cell_type": "code",
   "execution_count": 2,
   "id": "c98f1c07",
   "metadata": {},
   "outputs": [
    {
     "name": "stdout",
     "output_type": "stream",
     "text": [
      "Enter a Series you want :- 10\n",
      "0 1 1 2 3 5 8 13 21 34 55 "
     ]
    }
   ],
   "source": [
    "n=int(input(\"Enter a Series you want :- \"))\n",
    "x=0\n",
    "y=1\n",
    "\n",
    "for i in range(n+1):\n",
    "    print(x,end=\" \")\n",
    "    z=x+y\n",
    "    x=y\n",
    "    y=z"
   ]
  },
  {
   "cell_type": "markdown",
   "id": "961210d6",
   "metadata": {},
   "source": [
    "#### Difference Between For Loop And While Loop"
   ]
  },
  {
   "cell_type": "markdown",
   "id": "0627145f",
   "metadata": {},
   "source": [
    "-  For Loop is used when we have definite iteration\n",
    "-  WHile Loop is used when we have infinite iteration\n",
    "\n",
    "-  For Loop is faster than while loop\n",
    "\n",
    "-  For Loop can iterate through a collection.\n",
    "-  WHile loop simply loop untill the condition become false.\n",
    "\n",
    "-  Syntax:- for i in range()\n",
    "-  Syntax:- while (condition)"
   ]
  },
  {
   "cell_type": "code",
   "execution_count": null,
   "id": "f57bf80d",
   "metadata": {},
   "outputs": [],
   "source": []
  }
 ],
 "metadata": {
  "kernelspec": {
   "display_name": "Python 3 (ipykernel)",
   "language": "python",
   "name": "python3"
  },
  "language_info": {
   "codemirror_mode": {
    "name": "ipython",
    "version": 3
   },
   "file_extension": ".py",
   "mimetype": "text/x-python",
   "name": "python",
   "nbconvert_exporter": "python",
   "pygments_lexer": "ipython3",
   "version": "3.9.7"
  }
 },
 "nbformat": 4,
 "nbformat_minor": 5
}
